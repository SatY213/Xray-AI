{
 "cells": [
  {
   "cell_type": "code",
   "execution_count": null,
   "id": "383f2d90",
   "metadata": {
    "vscode": {
     "languageId": "plaintext"
    }
   },
   "outputs": [],
   "source": [
    "from collections import Counter\n",
    "\n",
    "def count_classes(dataset):\n",
    "    labels = [label for _, label in dataset.samples]\n",
    "    counts = Counter(labels)\n",
    "    return {dataset.classes[k]: v for k, v in counts.items()}\n",
    "\n",
    "print(\"Train:\", count_classes(train_data))\n",
    "print(\"Validation:\", count_classes(val_data))\n",
    "print(\"Test:\", count_classes(test_data))"
   ]
  },
  {
   "cell_type": "markdown",
   "id": "d777314a",
   "metadata": {},
   "source": [
    "## ⚖️ Dataset Balance\n",
    "Let's check how many images are in each class (Normal vs Pneumonia)."
   ]
  },
  {
   "cell_type": "code",
   "execution_count": null,
   "id": "953b889d",
   "metadata": {
    "vscode": {
     "languageId": "plaintext"
    }
   },
   "outputs": [],
   "source": [
    "images, labels = next(iter(train_loader))\n",
    "\n",
    "fig, axes = plt.subplots(2, 3, figsize=(10, 7))\n",
    "for i, ax in enumerate(axes.flatten()):\n",
    "    img = images[i].permute(1, 2, 0).numpy()\n",
    "    img = (img * 0.5) + 0.5  # unnormalize\n",
    "    ax.imshow(img, cmap=\"gray\")\n",
    "    ax.set_title(f\"Label: {train_data.classes[labels[i]]}\")\n",
    "    ax.axis(\"off\")\n",
    "plt.tight_layout()\n",
    "plt.show()"
   ]
  },
  {
   "cell_type": "markdown",
   "id": "c44a9d84",
   "metadata": {},
   "source": [
    "## 👀 Visualize Sample Images\n",
    "Let's display some training images with their labels."
   ]
  },
  {
   "cell_type": "code",
   "execution_count": null,
   "id": "8e5b478d",
   "metadata": {
    "vscode": {
     "languageId": "plaintext"
    }
   },
   "outputs": [],
   "source": [
    "batch_size = 32\n",
    "\n",
    "train_loader = DataLoader(train_data, batch_size=batch_size, shuffle=True)\n",
    "val_loader   = DataLoader(val_data, batch_size=batch_size, shuffle=False)\n",
    "test_loader  = DataLoader(test_data, batch_size=batch_size, shuffle=False)"
   ]
  },
  {
   "cell_type": "markdown",
   "id": "04d30ca4",
   "metadata": {},
   "source": [
    "## 📦 DataLoaders\n",
    "We create loaders for training, validation, and testing."
   ]
  },
  {
   "cell_type": "code",
   "execution_count": null,
   "id": "c0039675",
   "metadata": {
    "vscode": {
     "languageId": "plaintext"
    }
   },
   "outputs": [],
   "source": [
    "train_data = datasets.ImageFolder(train_dir, transform=train_transforms)\n",
    "val_data   = datasets.ImageFolder(val_dir,   transform=test_transforms)\n",
    "test_data  = datasets.ImageFolder(test_dir,  transform=test_transforms)\n",
    "\n",
    "print(\"Train samples:\", len(train_data))\n",
    "print(\"Validation samples:\", len(val_data))\n",
    "print(\"Test samples:\", len(test_data))\n",
    "print(\"Classes:\", train_data.classes)"
   ]
  },
  {
   "cell_type": "markdown",
   "id": "c0422949",
   "metadata": {},
   "source": [
    "## 📥 Load Datasets\n",
    "We load images using `ImageFolder`. Each subfolder (NORMAL / PNEUMONIA) \n",
    "is treated as a class."
   ]
  },
  {
   "cell_type": "code",
   "execution_count": null,
   "id": "d692c82e",
   "metadata": {
    "vscode": {
     "languageId": "plaintext"
    }
   },
   "outputs": [],
   "source": [
    "train_transforms = transforms.Compose([\n",
    "    transforms.Resize((224, 224)),\n",
    "    transforms.RandomHorizontalFlip(),\n",
    "    transforms.RandomRotation(10),\n",
    "    transforms.ToTensor(),\n",
    "    transforms.Normalize([0.5], [0.5])\n",
    "])\n",
    "\n",
    "test_transforms = transforms.Compose([\n",
    "    transforms.Resize((224, 224)),\n",
    "    transforms.ToTensor(),\n",
    "    transforms.Normalize([0.5], [0.5])\n",
    "])"
   ]
  },
  {
   "cell_type": "markdown",
   "id": "b486411b",
   "metadata": {},
   "source": [
    "## 🛠️ Data Preprocessing & Augmentation\n",
    "We resize all images to `224x224`, normalize them, and add some random \n",
    "flips/rotations to make the model more robust."
   ]
  },
  {
   "cell_type": "code",
   "execution_count": null,
   "id": "1491d394",
   "metadata": {
    "vscode": {
     "languageId": "plaintext"
    }
   },
   "outputs": [],
   "source": [
    "data_dir = \"data/chest_xray\"\n",
    "\n",
    "train_dir = os.path.join(data_dir, \"train\")\n",
    "val_dir   = os.path.join(data_dir, \"val\")\n",
    "test_dir  = os.path.join(data_dir, \"test\")\n",
    "\n",
    "print(\"Train folder:\", train_dir)\n",
    "print(\"Validation folder:\", val_dir)\n",
    "print(\"Test folder:\", test_dir)"
   ]
  },
  {
   "cell_type": "markdown",
   "id": "f367850f",
   "metadata": {},
   "source": [
    "## 📂 Dataset Paths\n",
    "We set up paths to the dataset folders (`train/`, `val/`, `test/`).\n"
   ]
  },
  {
   "cell_type": "code",
   "execution_count": null,
   "id": "09b6f4eb",
   "metadata": {
    "vscode": {
     "languageId": "plaintext"
    }
   },
   "outputs": [],
   "source": [
    "import os\n",
    "import matplotlib.pyplot as plt\n",
    "import numpy as np\n",
    "from torchvision import datasets, transforms\n",
    "from torch.utils.data import DataLoader\n"
   ]
  },
  {
   "cell_type": "markdown",
   "id": "dd5d83d2",
   "metadata": {},
   "source": [
    "# 🩺 Pneumonia Detection – Data Exploration\n",
    "\n",
    "In this notebook, we will:\n",
    "\n",
    "- Load the chest X-ray dataset (train/val/test).\n",
    "- Apply preprocessing & augmentation.\n",
    "- Visualize some sample images.\n",
    "- Check dataset balance (Normal vs Pneumonia).\n",
    "\n",
    "This is **Milestone 2** of the project.\n"
   ]
  }
 ],
 "metadata": {
  "language_info": {
   "name": "python"
  }
 },
 "nbformat": 4,
 "nbformat_minor": 5
}
